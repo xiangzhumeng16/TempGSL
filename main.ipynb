{
 "cells": [
  {
   "cell_type": "code",
   "execution_count": 13,
   "id": "3010200a",
   "metadata": {},
   "outputs": [],
   "source": [
    "import os, numpy as np, pandas as pd"
   ]
  },
  {
   "cell_type": "code",
   "execution_count": 14,
   "id": "530e868e",
   "metadata": {},
   "outputs": [],
   "source": [
    "import matplotlib.pyplot as plt\n",
    "from sklearn.svm import LinearSVC"
   ]
  },
  {
   "cell_type": "code",
   "execution_count": 15,
   "id": "8686ef32",
   "metadata": {},
   "outputs": [],
   "source": [
    "data_root = './datasets/'"
   ]
  },
  {
   "cell_type": "code",
   "execution_count": 16,
   "id": "95c3b187",
   "metadata": {},
   "outputs": [],
   "source": [
    "adhd_uw_dir = 'adhd_uw/adhd'"
   ]
  },
  {
   "cell_type": "code",
   "execution_count": 17,
   "id": "ebec5fe7",
   "metadata": {},
   "outputs": [],
   "source": [
    "td_uw_dir = 'adhd_uw/td'"
   ]
  },
  {
   "cell_type": "code",
   "execution_count": 18,
   "id": "cc1479d5",
   "metadata": {},
   "outputs": [],
   "source": [
    "adhd_graphs = []\n",
    "td_graphs = []"
   ]
  },
  {
   "cell_type": "code",
   "execution_count": 19,
   "id": "b1e4810a",
   "metadata": {
    "scrolled": true
   },
   "outputs": [],
   "source": [
    "for file in os.listdir(os.path.join(data_root, adhd_uw_dir)):\n",
    "    adhd_graph = np.loadtxt(os.path.join(data_root, adhd_uw_dir, file), dtype=np.float)\n",
    "    adhd_graphs.append(adhd_graph)\n",
    "    del adhd_graph"
   ]
  },
  {
   "cell_type": "code",
   "execution_count": 20,
   "id": "7172dbe2",
   "metadata": {
    "scrolled": false
   },
   "outputs": [],
   "source": [
    "for file in os.listdir(os.path.join(data_root, td_uw_dir)):\n",
    "    td_graph = np.loadtxt(os.path.join(data_root, td_uw_dir, file), dtype=np.float)\n",
    "    td_graphs.append(td_graph)\n",
    "    del td_graph"
   ]
  },
  {
   "cell_type": "code",
   "execution_count": 21,
   "id": "ca737e12",
   "metadata": {},
   "outputs": [],
   "source": [
    "def get_specific_graph_list(data_dir, group):\n",
    "    \n",
    "    specific_graph_list = []\n",
    "    \n",
    "    for file in os.listdir(os.path.join('./datasets', data_dir, group)):\n",
    "        graph = np.loadtxt(os.path.join('./datasets', data_dir, group, file), dtype=np.float)\n",
    "        specific_graph_list.append(adhd_graph)\n",
    "        del graph\n",
    "    \n",
    "    return specific_graph_list"
   ]
  },
  {
   "cell_type": "code",
   "execution_count": 22,
   "id": "e355333b",
   "metadata": {},
   "outputs": [
    {
     "data": {
      "text/plain": [
       "190"
      ]
     },
     "execution_count": 22,
     "metadata": {},
     "output_type": "execute_result"
    }
   ],
   "source": [
    "len(adhd_graphs)"
   ]
  },
  {
   "cell_type": "code",
   "execution_count": 23,
   "id": "4d3214f4",
   "metadata": {},
   "outputs": [
    {
     "data": {
      "text/plain": [
       "330"
      ]
     },
     "execution_count": 23,
     "metadata": {},
     "output_type": "execute_result"
    }
   ],
   "source": [
    "len(td_graphs)"
   ]
  },
  {
   "cell_type": "code",
   "execution_count": 24,
   "id": "cc72128c",
   "metadata": {},
   "outputs": [],
   "source": [
    "adhd_summary_graph = sum(adhd_graphs)/len(adhd_graphs)"
   ]
  },
  {
   "cell_type": "code",
   "execution_count": 25,
   "id": "ff82efa2",
   "metadata": {},
   "outputs": [],
   "source": [
    "td_summary_graph = sum(td_graphs)/len(td_graphs)"
   ]
  },
  {
   "cell_type": "code",
   "execution_count": 26,
   "id": "c821fbaf",
   "metadata": {},
   "outputs": [],
   "source": [
    "tmp_adhd_graph = np.loadtxt('./datasets/DTI/fun90/R_0.8/r003.txt', dtype=np.float)"
   ]
  },
  {
   "cell_type": "code",
   "execution_count": 27,
   "id": "4b90f2ca",
   "metadata": {},
   "outputs": [
    {
     "data": {
      "text/plain": [
       "598.0"
      ]
     },
     "execution_count": 27,
     "metadata": {},
     "output_type": "execute_result"
    }
   ],
   "source": [
    "tmp_adhd_graph.sum()"
   ]
  },
  {
   "cell_type": "code",
   "execution_count": 28,
   "id": "c8aa63fb",
   "metadata": {},
   "outputs": [
    {
     "data": {
      "text/plain": [
       "(90, 90)"
      ]
     },
     "execution_count": 28,
     "metadata": {},
     "output_type": "execute_result"
    }
   ],
   "source": [
    "tmp_adhd_graph.shape"
   ]
  },
  {
   "cell_type": "code",
   "execution_count": 29,
   "id": "d8a01f4c",
   "metadata": {},
   "outputs": [
    {
     "data": {
      "text/plain": [
       "0.07382716049382716"
      ]
     },
     "execution_count": 29,
     "metadata": {},
     "output_type": "execute_result"
    }
   ],
   "source": [
    "598/90/90"
   ]
  },
  {
   "cell_type": "code",
   "execution_count": 30,
   "id": "af4653a9",
   "metadata": {},
   "outputs": [],
   "source": [
    "diff_net_adhd = adhd_summary_graph-td_summary_graph"
   ]
  },
  {
   "cell_type": "code",
   "execution_count": 31,
   "id": "7884bc95",
   "metadata": {},
   "outputs": [],
   "source": [
    "diff_net_td = td_summary_graph-adhd_summary_graph"
   ]
  },
  {
   "cell_type": "code",
   "execution_count": 32,
   "id": "ad687cc1",
   "metadata": {},
   "outputs": [],
   "source": [
    "threshold = 0.001"
   ]
  },
  {
   "cell_type": "code",
   "execution_count": 33,
   "id": "bd80a21a",
   "metadata": {},
   "outputs": [],
   "source": [
    "mask_net_adhd = (diff_net_adhd>threshold).astype(np.int)"
   ]
  },
  {
   "cell_type": "code",
   "execution_count": 34,
   "id": "3a120541",
   "metadata": {},
   "outputs": [
    {
     "data": {
      "text/plain": [
       "17474"
      ]
     },
     "execution_count": 34,
     "metadata": {},
     "output_type": "execute_result"
    }
   ],
   "source": [
    "mask_net_adhd.sum()"
   ]
  },
  {
   "cell_type": "code",
   "execution_count": 35,
   "id": "7cb4fea0",
   "metadata": {},
   "outputs": [
    {
     "data": {
      "text/plain": [
       "35796"
      ]
     },
     "execution_count": 35,
     "metadata": {},
     "output_type": "execute_result"
    }
   ],
   "source": [
    "(diff_net_adhd!=0).astype(np.int).sum()"
   ]
  },
  {
   "cell_type": "code",
   "execution_count": 36,
   "id": "6d0a13dc",
   "metadata": {},
   "outputs": [],
   "source": [
    "tmp = diff_net_adhd[:5, :5]"
   ]
  },
  {
   "cell_type": "code",
   "execution_count": 37,
   "id": "70b39711",
   "metadata": {},
   "outputs": [
    {
     "data": {
      "text/plain": [
       "array([[ 0.        , -0.00478469,  0.00956938, -0.00478469,  0.04082935],\n",
       "       [-0.00478469,  0.        ,  0.03110048, -0.0185008 , -0.00318979],\n",
       "       [ 0.00956938,  0.03110048,  0.        , -0.01068581, -0.00143541],\n",
       "       [-0.00478469, -0.0185008 , -0.01068581,  0.        , -0.01100478],\n",
       "       [ 0.04082935, -0.00318979, -0.00143541, -0.01100478,  0.        ]])"
      ]
     },
     "execution_count": 37,
     "metadata": {},
     "output_type": "execute_result"
    }
   ],
   "source": [
    "tmp"
   ]
  },
  {
   "cell_type": "code",
   "execution_count": 38,
   "id": "a1af85f7",
   "metadata": {},
   "outputs": [],
   "source": [
    "tmp[tmp==0] = 1"
   ]
  },
  {
   "cell_type": "code",
   "execution_count": 39,
   "id": "b9053fbb",
   "metadata": {},
   "outputs": [
    {
     "data": {
      "text/plain": [
       "array([[ 1.        , -0.00478469,  0.00956938, -0.00478469,  0.04082935],\n",
       "       [-0.00478469,  1.        ,  0.03110048, -0.0185008 , -0.00318979],\n",
       "       [ 0.00956938,  0.03110048,  1.        , -0.01068581, -0.00143541],\n",
       "       [-0.00478469, -0.0185008 , -0.01068581,  1.        , -0.01100478],\n",
       "       [ 0.04082935, -0.00318979, -0.00143541, -0.01100478,  1.        ]])"
      ]
     },
     "execution_count": 39,
     "metadata": {},
     "output_type": "execute_result"
    }
   ],
   "source": [
    "tmp"
   ]
  },
  {
   "cell_type": "code",
   "execution_count": 40,
   "id": "5311af29",
   "metadata": {},
   "outputs": [],
   "source": [
    "tmp = np.zeros_like(tmp)"
   ]
  },
  {
   "cell_type": "code",
   "execution_count": 41,
   "id": "0310d36c",
   "metadata": {},
   "outputs": [
    {
     "data": {
      "text/plain": [
       "array([[0., 0., 0., 0., 0.],\n",
       "       [0., 0., 0., 0., 0.],\n",
       "       [0., 0., 0., 0., 0.],\n",
       "       [0., 0., 0., 0., 0.],\n",
       "       [0., 0., 0., 0., 0.]])"
      ]
     },
     "execution_count": 41,
     "metadata": {},
     "output_type": "execute_result"
    }
   ],
   "source": [
    "tmp"
   ]
  },
  {
   "cell_type": "code",
   "execution_count": 42,
   "id": "ce272987",
   "metadata": {},
   "outputs": [],
   "source": [
    "tmp[diff_net_adhd[:5, :5]>threshold] = 1"
   ]
  },
  {
   "cell_type": "code",
   "execution_count": 43,
   "id": "762b8409",
   "metadata": {},
   "outputs": [
    {
     "data": {
      "text/plain": [
       "array([[1., 0., 1., 0., 1.],\n",
       "       [0., 1., 1., 0., 0.],\n",
       "       [1., 1., 1., 0., 0.],\n",
       "       [0., 0., 0., 1., 0.],\n",
       "       [1., 0., 0., 0., 1.]])"
      ]
     },
     "execution_count": 43,
     "metadata": {},
     "output_type": "execute_result"
    }
   ],
   "source": [
    "tmp"
   ]
  },
  {
   "cell_type": "code",
   "execution_count": null,
   "id": "7e7028e8",
   "metadata": {},
   "outputs": [],
   "source": [
    "np.power(np.linalg.norm(tmp), -10)"
   ]
  },
  {
   "cell_type": "code",
   "execution_count": null,
   "id": "1cbefee1",
   "metadata": {},
   "outputs": [],
   "source": [
    "import math"
   ]
  },
  {
   "cell_type": "code",
   "execution_count": null,
   "id": "3ef7bce3",
   "metadata": {
    "scrolled": true
   },
   "outputs": [],
   "source": [
    "math.pow(3, 0)"
   ]
  },
  {
   "cell_type": "code",
   "execution_count": null,
   "id": "caf33c6a",
   "metadata": {},
   "outputs": [],
   "source": [
    "def calculate_weights(template_graph, specific_graph, gamma=1):\n",
    "    diff = np.linalg.norm(template_graph-specific_graph)\n",
    "    return math.pow(diff, gamma/2-1)"
   ]
  },
  {
   "cell_type": "code",
   "execution_count": null,
   "id": "3450690c",
   "metadata": {},
   "outputs": [],
   "source": [
    "def calculate_weights(template_graph, specific_graph_list, gamma):\n",
    "    weights = []\n",
    "    \n",
    "    for specific_graph in specific_graph_list:\n",
    "        weight = update_weight(template_graph, specific_graph, gamma)\n",
    "        weights.append(weight)\n",
    "        del weight\n",
    "    \n",
    "    return weights/sum(weights)"
   ]
  },
  {
   "cell_type": "code",
   "execution_count": null,
   "id": "ffdaf619",
   "metadata": {},
   "outputs": [],
   "source": [
    "def get_summary_graph(specific_graph_list, weights):\n",
    "    template_graph = np.zeros_like(specific_graph_list[0])\n",
    "    \n",
    "    for i in range(weights):\n",
    "        template_graph += weights[i]*specific_graph_list[i]\n",
    "        \n",
    "    return template_graph"
   ]
  },
  {
   "cell_type": "code",
   "execution_count": null,
   "id": "143776fb",
   "metadata": {},
   "outputs": [],
   "source": [
    "def update_summary_graph(positive_summary_graph, negative_summary_graph, threshold=0.01, iterations = 10):\n",
    "    positive_graph = positive_summary_graph\n",
    "    negative_graph = negative_summary_graph\n",
    "    \n",
    "    # main loop\n",
    "    for i in range(iterations):\n",
    "        \n",
    "        # updating the positive graph\n",
    "        update_positive_graph = positive_graph[positive_graph>negative_graph+threshold]\n",
    "        positive_graph = update_positive_graph\n",
    "        \n",
    "        # updating the positive graph\n",
    "        update_negative_graph = negative_graph[negative_graph>positive_graph+threshold]\n",
    "        negative_graph = update_negative_graph\n",
    "    \n",
    "    return positive_graph, negative_graph"
   ]
  },
  {
   "cell_type": "code",
   "execution_count": null,
   "id": "08f53eaa",
   "metadata": {},
   "outputs": [],
   "source": [
    "def get_summary_features(sample_graph, positive_graph, negative_graph):\n",
    "    # edge nums\n",
    "    positive_edges = sample_graph[positive_graph>0].sum()\n",
    "    negative_edges = sample_graph[negative_graph>0].sum()\n",
    "    \n",
    "    return positive_edges, negative_edges"
   ]
  },
  {
   "cell_type": "code",
   "execution_count": null,
   "id": "702deab6",
   "metadata": {},
   "outputs": [],
   "source": [
    "def get_connnectivity_features(sample_graph, positive_graph, negative_graph):\n",
    "    # connectivity feature with mask\n",
    "    graph_index = positive_graph+negative_graph\n",
    "    connectivity_matrix = sample_graph[graph_index>0]\n",
    "    \n",
    "    # upper triangle matrix \n",
    "    triu_mask = np.tril(np.ones_like(connectivity_matrix))==0\n",
    "    \n",
    "    return connectivity_matrix[triu_mask]"
   ]
  },
  {
   "cell_type": "code",
   "execution_count": null,
   "id": "be29685b",
   "metadata": {},
   "outputs": [],
   "source": [
    "np.triu(tmp, 1).reshape(-1)"
   ]
  },
  {
   "cell_type": "code",
   "execution_count": null,
   "id": "e61aeb4c",
   "metadata": {},
   "outputs": [],
   "source": [
    "mask = np.tril(np.ones_like(tmp))"
   ]
  },
  {
   "cell_type": "code",
   "execution_count": null,
   "id": "d6a679a8",
   "metadata": {},
   "outputs": [],
   "source": [
    "tmp.shape"
   ]
  },
  {
   "cell_type": "code",
   "execution_count": null,
   "id": "2b1ccbff",
   "metadata": {},
   "outputs": [],
   "source": [
    "tmp[mask==0]"
   ]
  },
  {
   "cell_type": "code",
   "execution_count": null,
   "id": "30af489b",
   "metadata": {},
   "outputs": [],
   "source": [
    "tmp"
   ]
  },
  {
   "cell_type": "code",
   "execution_count": null,
   "id": "8667d9df",
   "metadata": {},
   "outputs": [],
   "source": [
    "diff_net_adhd.shape"
   ]
  },
  {
   "cell_type": "code",
   "execution_count": null,
   "id": "2151a2ba",
   "metadata": {},
   "outputs": [],
   "source": [
    "triu_mask = np.tril(np.ones_like(diff_net_adhd))==0"
   ]
  },
  {
   "cell_type": "code",
   "execution_count": null,
   "id": "85fe0eda",
   "metadata": {},
   "outputs": [],
   "source": [
    "diff_net_adhd[triu_mask].shape"
   ]
  },
  {
   "cell_type": "code",
   "execution_count": null,
   "id": "d35e9d6e",
   "metadata": {},
   "outputs": [],
   "source": []
  },
  {
   "cell_type": "code",
   "execution_count": null,
   "id": "91c9fc2c",
   "metadata": {},
   "outputs": [],
   "source": [
    "190*(190-1)/2"
   ]
  },
  {
   "cell_type": "code",
   "execution_count": null,
   "id": "d46de1d4",
   "metadata": {},
   "outputs": [],
   "source": [
    "np.concatenate([diff_net_adhd[triu_mask].reshape(1, -1), diff_net_adhd[triu_mask].reshape(1, -1)]).shape"
   ]
  },
  {
   "cell_type": "code",
   "execution_count": null,
   "id": "d7ff04f3",
   "metadata": {},
   "outputs": [],
   "source": [
    "tmp = np.random.rand(5, 5)"
   ]
  },
  {
   "cell_type": "code",
   "execution_count": null,
   "id": "43018f1f",
   "metadata": {},
   "outputs": [],
   "source": [
    "tmp"
   ]
  },
  {
   "cell_type": "code",
   "execution_count": null,
   "id": "b978dff9",
   "metadata": {},
   "outputs": [],
   "source": [
    "threshod = np.percentile(tmp, 50)"
   ]
  },
  {
   "cell_type": "code",
   "execution_count": null,
   "id": "dc6c4f2d",
   "metadata": {},
   "outputs": [],
   "source": [
    "tmp[tmp<threshod] = 0"
   ]
  },
  {
   "cell_type": "code",
   "execution_count": null,
   "id": "e827f123",
   "metadata": {},
   "outputs": [],
   "source": [
    "tmp"
   ]
  },
  {
   "cell_type": "code",
   "execution_count": null,
   "id": "42443f97",
   "metadata": {},
   "outputs": [],
   "source": [
    "threshod"
   ]
  },
  {
   "cell_type": "code",
   "execution_count": null,
   "id": "84db5bbd",
   "metadata": {},
   "outputs": [],
   "source": [
    "def threshold_split_feature(input_file_dir, output_file_dir, ratio = 0.9):\n",
    "    #  if not output_file_dir, generate the corresponding dir\n",
    "    if not os.path.exists(output_file_dir):\n",
    "        os.mkdir(output_file_dir)\n",
    "        \n",
    "    for txt_file in os.listdir(input_file_dir):\n",
    "        # get the matrix from .txt file\n",
    "        input_data = np.loadtxt(os.path.join(input_file_dir, txt_file), dtype=np.float)\n",
    "        # set the threshold to split the feature\n",
    "        threshold = np.percentile(input_data, ratio)\n",
    "        # generate 0-1 connectivity matrix\n",
    "        output_data = np.zeros_like(input_data)\n",
    "        output_data[input_data>threshold] = 1\n",
    "        np.savetxt(os.path.join(output_file_dir, txt_file, fmt=\"d\", delimiter=\" \"))"
   ]
  },
  {
   "cell_type": "code",
   "execution_count": 1,
   "id": "3cdb3ad4",
   "metadata": {},
   "outputs": [],
   "source": []
  },
  {
   "cell_type": "code",
   "execution_count": 2,
   "id": "c0e1f767",
   "metadata": {},
   "outputs": [],
   "source": []
  },
  {
   "cell_type": "code",
   "execution_count": 3,
   "id": "c7a14b25",
   "metadata": {},
   "outputs": [],
   "source": []
  },
  {
   "cell_type": "code",
   "execution_count": 4,
   "id": "cc016f0a",
   "metadata": {},
   "outputs": [
    {
     "ename": "TypeError",
     "evalue": "unsupported operand type(s) for /: 'list' and 'float'",
     "output_type": "error",
     "traceback": [
      "\u001b[1;31m---------------------------------------------------------------------------\u001b[0m",
      "\u001b[1;31mTypeError\u001b[0m                                 Traceback (most recent call last)",
      "\u001b[1;32m<ipython-input-4-f738e2db0aed>\u001b[0m in \u001b[0;36m<module>\u001b[1;34m\u001b[0m\n\u001b[1;32m----> 1\u001b[1;33m \u001b[0mpos_train_features\u001b[0m\u001b[1;33m,\u001b[0m \u001b[0mneg_train_features\u001b[0m\u001b[1;33m,\u001b[0m \u001b[0mpos_test_features\u001b[0m\u001b[1;33m,\u001b[0m \u001b[0mneg_test_features\u001b[0m \u001b[1;33m=\u001b[0m \u001b[0mget_dataset\u001b[0m\u001b[1;33m(\u001b[0m\u001b[0mdata_dir\u001b[0m\u001b[1;33m,\u001b[0m \u001b[0mpositive_group\u001b[0m\u001b[1;33m,\u001b[0m \u001b[0mnegative_group\u001b[0m\u001b[1;33m,\u001b[0m \u001b[0msplit_ratio\u001b[0m\u001b[1;33m=\u001b[0m\u001b[1;36m0.7\u001b[0m\u001b[1;33m)\u001b[0m\u001b[1;33m\u001b[0m\u001b[1;33m\u001b[0m\u001b[0m\n\u001b[0m",
      "\u001b[1;32m~\\Desktop\\临时文件夹\\contrast-graph\\contrast-graph\\dataset.py\u001b[0m in \u001b[0;36mget_dataset\u001b[1;34m(data_dir, positive_group, negative_group, split_ratio)\u001b[0m\n\u001b[0;32m     44\u001b[0m         \u001b[0mpositive_template_graph\u001b[0m\u001b[1;33m,\u001b[0m \u001b[0mnegative_template_graph\u001b[0m \u001b[1;33m=\u001b[0m \u001b[0mupdate_summary_graph\u001b[0m\u001b[1;33m(\u001b[0m\u001b[0mpositive_graph\u001b[0m\u001b[1;33m,\u001b[0m \u001b[0mnegative_graph\u001b[0m\u001b[1;33m)\u001b[0m\u001b[1;33m\u001b[0m\u001b[1;33m\u001b[0m\u001b[0m\n\u001b[0;32m     45\u001b[0m         \u001b[1;31m# calculate weights for two groups\u001b[0m\u001b[1;33m\u001b[0m\u001b[1;33m\u001b[0m\u001b[1;33m\u001b[0m\u001b[0m\n\u001b[1;32m---> 46\u001b[1;33m         \u001b[0mpos_weights\u001b[0m \u001b[1;33m=\u001b[0m \u001b[0mcalculate_weights\u001b[0m\u001b[1;33m(\u001b[0m\u001b[0mpositive_graph\u001b[0m\u001b[1;33m,\u001b[0m \u001b[0mpos_graph_list\u001b[0m\u001b[1;33m)\u001b[0m\u001b[1;33m\u001b[0m\u001b[1;33m\u001b[0m\u001b[0m\n\u001b[0m\u001b[0;32m     47\u001b[0m         \u001b[0mneg_weights\u001b[0m \u001b[1;33m=\u001b[0m \u001b[0mcalculate_weights\u001b[0m\u001b[1;33m(\u001b[0m\u001b[0mnegative_graph\u001b[0m\u001b[1;33m,\u001b[0m \u001b[0mneg_graph_list\u001b[0m\u001b[1;33m)\u001b[0m\u001b[1;33m\u001b[0m\u001b[1;33m\u001b[0m\u001b[0m\n\u001b[0;32m     48\u001b[0m         \u001b[0mpositive_graph\u001b[0m \u001b[1;33m=\u001b[0m \u001b[0mget_summary_graph\u001b[0m\u001b[1;33m(\u001b[0m\u001b[0mpos_graph_list\u001b[0m\u001b[1;33m,\u001b[0m \u001b[0mpos_weights\u001b[0m\u001b[1;33m)\u001b[0m\u001b[1;33m\u001b[0m\u001b[1;33m\u001b[0m\u001b[0m\n",
      "\u001b[1;32m~\\Desktop\\临时文件夹\\contrast-graph\\contrast-graph\\tools.py\u001b[0m in \u001b[0;36mcalculate_weights\u001b[1;34m(template_graph, specific_graph_list, gamma)\u001b[0m\n\u001b[0;32m     51\u001b[0m         \u001b[1;32mdel\u001b[0m \u001b[0mweight\u001b[0m\u001b[1;33m\u001b[0m\u001b[1;33m\u001b[0m\u001b[0m\n\u001b[0;32m     52\u001b[0m \u001b[1;33m\u001b[0m\u001b[0m\n\u001b[1;32m---> 53\u001b[1;33m     \u001b[1;32mreturn\u001b[0m \u001b[0mweights\u001b[0m\u001b[1;33m/\u001b[0m\u001b[0msum\u001b[0m\u001b[1;33m(\u001b[0m\u001b[0mweights\u001b[0m\u001b[1;33m)\u001b[0m\u001b[1;33m\u001b[0m\u001b[1;33m\u001b[0m\u001b[0m\n\u001b[0m\u001b[0;32m     54\u001b[0m \u001b[1;33m\u001b[0m\u001b[0m\n\u001b[0;32m     55\u001b[0m \u001b[1;32mdef\u001b[0m \u001b[0mupdate_summary_graph\u001b[0m\u001b[1;33m(\u001b[0m\u001b[0mpositive_summary_graph\u001b[0m\u001b[1;33m,\u001b[0m \u001b[0mnegative_summary_graph\u001b[0m\u001b[1;33m,\u001b[0m \u001b[0mthreshold\u001b[0m\u001b[1;33m=\u001b[0m\u001b[1;36m0.01\u001b[0m\u001b[1;33m,\u001b[0m \u001b[0miterations\u001b[0m \u001b[1;33m=\u001b[0m \u001b[1;36m1\u001b[0m\u001b[1;33m)\u001b[0m\u001b[1;33m:\u001b[0m\u001b[1;33m\u001b[0m\u001b[1;33m\u001b[0m\u001b[0m\n",
      "\u001b[1;31mTypeError\u001b[0m: unsupported operand type(s) for /: 'list' and 'float'"
     ]
    }
   ],
   "source": []
  },
  {
   "cell_type": "code",
   "execution_count": 4,
   "id": "812fe7f2",
   "metadata": {},
   "outputs": [],
   "source": [
    "pos_graph_list = get_specific_graph_list(data_dir, positive_group)"
   ]
  },
  {
   "cell_type": "code",
   "execution_count": 7,
   "id": "b2f3e237",
   "metadata": {},
   "outputs": [
    {
     "data": {
      "text/plain": [
       "49"
      ]
     },
     "execution_count": 7,
     "metadata": {},
     "output_type": "execute_result"
    }
   ],
   "source": [
    "len(pos_graph_list)"
   ]
  },
  {
   "cell_type": "code",
   "execution_count": 8,
   "id": "6dcb17f8",
   "metadata": {},
   "outputs": [],
   "source": [
    "neg_graph_list = get_specific_graph_list(data_dir, negative_group)"
   ]
  },
  {
   "cell_type": "code",
   "execution_count": 9,
   "id": "5f5a7f2f",
   "metadata": {},
   "outputs": [
    {
     "data": {
      "text/plain": [
       "52"
      ]
     },
     "execution_count": 9,
     "metadata": {},
     "output_type": "execute_result"
    }
   ],
   "source": [
    "len(neg_graph_list)"
   ]
  },
  {
   "cell_type": "code",
   "execution_count": 5,
   "id": "57c113b6",
   "metadata": {},
   "outputs": [],
   "source": [
    "weights = [1,1,1,1,1,1]"
   ]
  },
  {
   "cell_type": "code",
   "execution_count": 6,
   "id": "331ff0ee",
   "metadata": {},
   "outputs": [
    {
     "ename": "TypeError",
     "evalue": "unsupported operand type(s) for /: 'list' and 'int'",
     "output_type": "error",
     "traceback": [
      "\u001b[1;31m---------------------------------------------------------------------------\u001b[0m",
      "\u001b[1;31mTypeError\u001b[0m                                 Traceback (most recent call last)",
      "\u001b[1;32m<ipython-input-6-bbb8068273be>\u001b[0m in \u001b[0;36m<module>\u001b[1;34m\u001b[0m\n\u001b[1;32m----> 1\u001b[1;33m \u001b[0mweights\u001b[0m\u001b[1;33m/\u001b[0m\u001b[0msum\u001b[0m\u001b[1;33m(\u001b[0m\u001b[0mweights\u001b[0m\u001b[1;33m)\u001b[0m\u001b[1;33m\u001b[0m\u001b[1;33m\u001b[0m\u001b[0m\n\u001b[0m",
      "\u001b[1;31mTypeError\u001b[0m: unsupported operand type(s) for /: 'list' and 'int'"
     ]
    }
   ],
   "source": [
    "1/sum(weights)"
   ]
  },
  {
   "cell_type": "code",
   "execution_count": 7,
   "id": "81d870e3",
   "metadata": {},
   "outputs": [
    {
     "ename": "NameError",
     "evalue": "name 'neg_train_num' is not defined",
     "output_type": "error",
     "traceback": [
      "\u001b[1;31m---------------------------------------------------------------------------\u001b[0m",
      "\u001b[1;31mNameError\u001b[0m                                 Traceback (most recent call last)",
      "\u001b[1;32m<ipython-input-7-985b66e33c03>\u001b[0m in \u001b[0;36m<module>\u001b[1;34m\u001b[0m\n\u001b[1;32m----> 1\u001b[1;33m \u001b[0mneg_test_ids\u001b[0m \u001b[1;33m=\u001b[0m \u001b[0mlist\u001b[0m\u001b[1;33m(\u001b[0m\u001b[0mrange\u001b[0m\u001b[1;33m(\u001b[0m\u001b[0mneg_train_num\u001b[0m\u001b[1;33m)\u001b[0m \u001b[1;33m-\u001b[0m \u001b[0mset\u001b[0m\u001b[1;33m(\u001b[0m\u001b[0mneg_train_ids\u001b[0m\u001b[1;33m)\u001b[0m\u001b[1;33m)\u001b[0m\u001b[1;33m\u001b[0m\u001b[1;33m\u001b[0m\u001b[0m\n\u001b[0m",
      "\u001b[1;31mNameError\u001b[0m: name 'neg_train_num' is not defined"
     ]
    }
   ],
   "source": [
    "neg_test_ids = list(range(neg_train_num) - set(neg_train_ids))"
   ]
  },
  {
   "cell_type": "code",
   "execution_count": 1,
   "id": "282e8764",
   "metadata": {},
   "outputs": [],
   "source": [
    "import math"
   ]
  },
  {
   "cell_type": "code",
   "execution_count": 3,
   "id": "43ae9885",
   "metadata": {},
   "outputs": [],
   "source": [
    "data = [0.20, 0.19, 0.18]"
   ]
  },
  {
   "cell_type": "code",
   "execution_count": 4,
   "id": "a2fe5955",
   "metadata": {},
   "outputs": [],
   "source": [
    "for i in range(len(data)):\n",
    "    data[i] = math.exp(data[i])"
   ]
  },
  {
   "cell_type": "code",
   "execution_count": 5,
   "id": "b384e541",
   "metadata": {},
   "outputs": [],
   "source": [
    "data = [elem/sum(data) for elem in data]"
   ]
  },
  {
   "cell_type": "code",
   "execution_count": 6,
   "id": "1562639f",
   "metadata": {},
   "outputs": [
    {
     "data": {
      "text/plain": [
       "[0.33667216652898474, 0.33332222249999355, 0.3300056109710218]"
      ]
     },
     "execution_count": 6,
     "metadata": {},
     "output_type": "execute_result"
    }
   ],
   "source": [
    "data"
   ]
  },
  {
   "cell_type": "code",
   "execution_count": 1,
   "id": "324ebe36",
   "metadata": {},
   "outputs": [],
   "source": [
    "import numpy as np"
   ]
  },
  {
   "cell_type": "code",
   "execution_count": 3,
   "id": "6f8266df",
   "metadata": {},
   "outputs": [
    {
     "data": {
      "text/plain": [
       "array([0. , 0.1, 0.2, 0.3, 0.4, 0.5, 0.6, 0.7, 0.8, 0.9, 1. , 1.1, 1.2,\n",
       "       1.3, 1.4, 1.5, 1.6, 1.7, 1.8, 1.9])"
      ]
     },
     "execution_count": 3,
     "metadata": {},
     "output_type": "execute_result"
    }
   ],
   "source": [
    "np.arange(0, 2, 0.1)"
   ]
  },
  {
   "cell_type": "code",
   "execution_count": null,
   "id": "f13cbf41",
   "metadata": {},
   "outputs": [],
   "source": [
    "0, 0.1, 0.2, 0.3, 0.4, 0.5, 0.6, 0.7, 0.8, 0.9, 1. , 1.1, 1.2, 1.3, 1.4, 1.5, 1.6, 1.7, 1.8, 1.9"
   ]
  }
 ],
 "metadata": {
  "kernelspec": {
   "display_name": "Python 3",
   "language": "python",
   "name": "python3"
  },
  "language_info": {
   "codemirror_mode": {
    "name": "ipython",
    "version": 3
   },
   "file_extension": ".py",
   "mimetype": "text/x-python",
   "name": "python",
   "nbconvert_exporter": "python",
   "pygments_lexer": "ipython3",
   "version": "3.8.8"
  }
 },
 "nbformat": 4,
 "nbformat_minor": 5
}
